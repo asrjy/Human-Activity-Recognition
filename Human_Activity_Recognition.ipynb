{
  "nbformat": 4,
  "nbformat_minor": 0,
  "metadata": {
    "colab": {
      "name": "Human Activity Recognition.ipynb",
      "provenance": [],
      "machine_shape": "hm"
    },
    "kernelspec": {
      "name": "python3",
      "display_name": "Python 3"
    },
    "language_info": {
      "name": "python"
    }
  },
  "cells": [
    {
      "cell_type": "code",
      "metadata": {
        "id": "EPavVMkNNnsv"
      },
      "source": [
        "import itertools\n",
        "from datetime import datetime\n",
        "\n",
        "import numpy as np\n",
        "import pandas as pd\n",
        "import matplotlib.pyplot as plt\n",
        "import seaborn as sns\n",
        "\n",
        "from sklearn.manifold import TSNE\n",
        "from sklearn.metrics import confusion_matrix\n",
        "from sklearn import linear_model\n",
        "from sklearn import metrics\n",
        "from sklearn.model_selection import GridSearchCV\n",
        "from sklearn.svm import LinearSVC\n",
        "from sklearn.svm import SVC\n",
        "from sklearn.tree import DecisionTreeClassifier\n",
        "from sklearn.ensemble import RandomForestClassifier\n",
        "from sklearn.ensemble import GradientBoostingClassifier\n",
        "\n",
        "import tensorflow as tf\n",
        "np.random.seed(42)\n",
        "tf.random.set_seed(42)\n",
        "from keras import backend as K\n",
        "from keras.models import Sequential\n",
        "from keras.layers import LSTM\n",
        "from keras.layers.core import Dense, Dropout\n",
        "\n",
        "import warnings\n",
        "warnings.filterwarnings(\"ignore\")"
      ],
      "execution_count": 70,
      "outputs": []
    },
    {
      "cell_type": "markdown",
      "metadata": {
        "id": "xVqX-epdPLWS"
      },
      "source": [
        "## Importing Data"
      ]
    },
    {
      "cell_type": "code",
      "metadata": {
        "id": "C95u-R5IPU7i",
        "colab": {
          "base_uri": "https://localhost:8080/"
        },
        "outputId": "006d3a3c-cdd9-45e9-b2f2-303d042e6eeb"
      },
      "source": [
        "# Importing Domain Expert Designed Feature names\n",
        "\n",
        "features = list()\n",
        "\n",
        "with open(\"/content/drive/MyDrive/AAIC/Case Studies/Human Activity Recognition/UCI_HAR_Dataset/features.txt\") as f:\n",
        "  features = [line.split()[1] for line in f.readlines()]\n",
        "\n",
        "print(f\"Number of Features: {len(features)}\")"
      ],
      "execution_count": 34,
      "outputs": [
        {
          "output_type": "stream",
          "name": "stdout",
          "text": [
            "Number of Features: 561\n"
          ]
        }
      ]
    },
    {
      "cell_type": "code",
      "metadata": {
        "colab": {
          "base_uri": "https://localhost:8080/"
        },
        "id": "ZY6abyea3ym3",
        "outputId": "4188275f-60b0-4bb4-97d4-d6fb9cecf82f"
      },
      "source": [
        "features_no_dup = []\n",
        "for feature in features:\n",
        "  if feature not in features_no_dup:\n",
        "    features_no_dup.append(feature)\n",
        "len(features_no_dup)"
      ],
      "execution_count": 31,
      "outputs": [
        {
          "output_type": "execute_result",
          "data": {
            "text/plain": [
              "477"
            ]
          },
          "metadata": {},
          "execution_count": 31
        }
      ]
    },
    {
      "cell_type": "markdown",
      "metadata": {
        "id": "4KXAzf9EPpoh"
      },
      "source": [
        "Each Time Series Data from Accelerometer and Gyroscope is divided into windows of length 128 with 50% overlap. "
      ]
    },
    {
      "cell_type": "code",
      "metadata": {
        "id": "NNz-s_BPP8JA"
      },
      "source": [
        "# Loading Train Data\n",
        "X_train = pd.read_csv('/content/drive/MyDrive/AAIC/Case Studies/Human Activity Recognition/UCI_HAR_Dataset/train/X_train.txt', delim_whitespace=True, header=None)\n",
        "X_train.columns = features\n",
        "\n",
        "# Getting Subject Data\n",
        "X_train['subject'] = pd.read_csv(\"/content/drive/MyDrive/AAIC/Case Studies/Human Activity Recognition/UCI_HAR_Dataset/train/subject_train.txt\",header = None, squeeze = True)\n",
        "\n",
        "y_train = pd.read_csv(\"/content/drive/MyDrive/AAIC/Case Studies/Human Activity Recognition/UCI_HAR_Dataset/train/y_train.txt\", names = [\"Activity\"], squeeze = True)\n",
        "y_train_labels = y_train.map({1: 'WALKING', 2:'WALKING_UPSTAIRS',3:'WALKING_DOWNSTAIRS',4:'SITTING', 5:'STANDING',6:'LAYING'})"
      ],
      "execution_count": 41,
      "outputs": []
    },
    {
      "cell_type": "code",
      "metadata": {
        "colab": {
          "base_uri": "https://localhost:8080/",
          "height": 164
        },
        "id": "GlDhyd_O0T8T",
        "outputId": "bc22b4ea-df51-426f-a112-7516eea7c4b0"
      },
      "source": [
        "train = X_train\n",
        "train[\"Activity\"] = y_train\n",
        "train[\"ActivityName\"] = y_train_labels\n",
        "train.sample()"
      ],
      "execution_count": 42,
      "outputs": [
        {
          "output_type": "execute_result",
          "data": {
            "text/html": [
              "<div>\n",
              "<style scoped>\n",
              "    .dataframe tbody tr th:only-of-type {\n",
              "        vertical-align: middle;\n",
              "    }\n",
              "\n",
              "    .dataframe tbody tr th {\n",
              "        vertical-align: top;\n",
              "    }\n",
              "\n",
              "    .dataframe thead th {\n",
              "        text-align: right;\n",
              "    }\n",
              "</style>\n",
              "<table border=\"1\" class=\"dataframe\">\n",
              "  <thead>\n",
              "    <tr style=\"text-align: right;\">\n",
              "      <th></th>\n",
              "      <th>tBodyAcc-mean()-X</th>\n",
              "      <th>tBodyAcc-mean()-Y</th>\n",
              "      <th>tBodyAcc-mean()-Z</th>\n",
              "      <th>tBodyAcc-std()-X</th>\n",
              "      <th>tBodyAcc-std()-Y</th>\n",
              "      <th>tBodyAcc-std()-Z</th>\n",
              "      <th>tBodyAcc-mad()-X</th>\n",
              "      <th>tBodyAcc-mad()-Y</th>\n",
              "      <th>tBodyAcc-mad()-Z</th>\n",
              "      <th>tBodyAcc-max()-X</th>\n",
              "      <th>tBodyAcc-max()-Y</th>\n",
              "      <th>tBodyAcc-max()-Z</th>\n",
              "      <th>tBodyAcc-min()-X</th>\n",
              "      <th>tBodyAcc-min()-Y</th>\n",
              "      <th>tBodyAcc-min()-Z</th>\n",
              "      <th>tBodyAcc-sma()</th>\n",
              "      <th>tBodyAcc-energy()-X</th>\n",
              "      <th>tBodyAcc-energy()-Y</th>\n",
              "      <th>tBodyAcc-energy()-Z</th>\n",
              "      <th>tBodyAcc-iqr()-X</th>\n",
              "      <th>tBodyAcc-iqr()-Y</th>\n",
              "      <th>tBodyAcc-iqr()-Z</th>\n",
              "      <th>tBodyAcc-entropy()-X</th>\n",
              "      <th>tBodyAcc-entropy()-Y</th>\n",
              "      <th>tBodyAcc-entropy()-Z</th>\n",
              "      <th>tBodyAcc-arCoeff()-X,1</th>\n",
              "      <th>tBodyAcc-arCoeff()-X,2</th>\n",
              "      <th>tBodyAcc-arCoeff()-X,3</th>\n",
              "      <th>tBodyAcc-arCoeff()-X,4</th>\n",
              "      <th>tBodyAcc-arCoeff()-Y,1</th>\n",
              "      <th>tBodyAcc-arCoeff()-Y,2</th>\n",
              "      <th>tBodyAcc-arCoeff()-Y,3</th>\n",
              "      <th>tBodyAcc-arCoeff()-Y,4</th>\n",
              "      <th>tBodyAcc-arCoeff()-Z,1</th>\n",
              "      <th>tBodyAcc-arCoeff()-Z,2</th>\n",
              "      <th>tBodyAcc-arCoeff()-Z,3</th>\n",
              "      <th>tBodyAcc-arCoeff()-Z,4</th>\n",
              "      <th>tBodyAcc-correlation()-X,Y</th>\n",
              "      <th>tBodyAcc-correlation()-X,Z</th>\n",
              "      <th>tBodyAcc-correlation()-Y,Z</th>\n",
              "      <th>...</th>\n",
              "      <th>fBodyBodyAccJerkMag-maxInds</th>\n",
              "      <th>fBodyBodyAccJerkMag-meanFreq()</th>\n",
              "      <th>fBodyBodyAccJerkMag-skewness()</th>\n",
              "      <th>fBodyBodyAccJerkMag-kurtosis()</th>\n",
              "      <th>fBodyBodyGyroMag-mean()</th>\n",
              "      <th>fBodyBodyGyroMag-std()</th>\n",
              "      <th>fBodyBodyGyroMag-mad()</th>\n",
              "      <th>fBodyBodyGyroMag-max()</th>\n",
              "      <th>fBodyBodyGyroMag-min()</th>\n",
              "      <th>fBodyBodyGyroMag-sma()</th>\n",
              "      <th>fBodyBodyGyroMag-energy()</th>\n",
              "      <th>fBodyBodyGyroMag-iqr()</th>\n",
              "      <th>fBodyBodyGyroMag-entropy()</th>\n",
              "      <th>fBodyBodyGyroMag-maxInds</th>\n",
              "      <th>fBodyBodyGyroMag-meanFreq()</th>\n",
              "      <th>fBodyBodyGyroMag-skewness()</th>\n",
              "      <th>fBodyBodyGyroMag-kurtosis()</th>\n",
              "      <th>fBodyBodyGyroJerkMag-mean()</th>\n",
              "      <th>fBodyBodyGyroJerkMag-std()</th>\n",
              "      <th>fBodyBodyGyroJerkMag-mad()</th>\n",
              "      <th>fBodyBodyGyroJerkMag-max()</th>\n",
              "      <th>fBodyBodyGyroJerkMag-min()</th>\n",
              "      <th>fBodyBodyGyroJerkMag-sma()</th>\n",
              "      <th>fBodyBodyGyroJerkMag-energy()</th>\n",
              "      <th>fBodyBodyGyroJerkMag-iqr()</th>\n",
              "      <th>fBodyBodyGyroJerkMag-entropy()</th>\n",
              "      <th>fBodyBodyGyroJerkMag-maxInds</th>\n",
              "      <th>fBodyBodyGyroJerkMag-meanFreq()</th>\n",
              "      <th>fBodyBodyGyroJerkMag-skewness()</th>\n",
              "      <th>fBodyBodyGyroJerkMag-kurtosis()</th>\n",
              "      <th>angle(tBodyAccMean,gravity)</th>\n",
              "      <th>angle(tBodyAccJerkMean),gravityMean)</th>\n",
              "      <th>angle(tBodyGyroMean,gravityMean)</th>\n",
              "      <th>angle(tBodyGyroJerkMean,gravityMean)</th>\n",
              "      <th>angle(X,gravityMean)</th>\n",
              "      <th>angle(Y,gravityMean)</th>\n",
              "      <th>angle(Z,gravityMean)</th>\n",
              "      <th>subject</th>\n",
              "      <th>Activity</th>\n",
              "      <th>ActivityName</th>\n",
              "    </tr>\n",
              "  </thead>\n",
              "  <tbody>\n",
              "    <tr>\n",
              "      <th>7124</th>\n",
              "      <td>0.362596</td>\n",
              "      <td>-0.036061</td>\n",
              "      <td>-0.230263</td>\n",
              "      <td>-0.421467</td>\n",
              "      <td>-0.103392</td>\n",
              "      <td>-0.077851</td>\n",
              "      <td>-0.470531</td>\n",
              "      <td>-0.047982</td>\n",
              "      <td>-0.048378</td>\n",
              "      <td>-0.247229</td>\n",
              "      <td>-0.121516</td>\n",
              "      <td>-0.378488</td>\n",
              "      <td>0.413408</td>\n",
              "      <td>0.334333</td>\n",
              "      <td>0.313967</td>\n",
              "      <td>-0.155857</td>\n",
              "      <td>-0.829862</td>\n",
              "      <td>-0.843486</td>\n",
              "      <td>-0.59593</td>\n",
              "      <td>-0.587544</td>\n",
              "      <td>-0.207431</td>\n",
              "      <td>0.000252</td>\n",
              "      <td>0.399282</td>\n",
              "      <td>0.128722</td>\n",
              "      <td>-0.121746</td>\n",
              "      <td>-0.825542</td>\n",
              "      <td>0.663497</td>\n",
              "      <td>-0.356603</td>\n",
              "      <td>0.167876</td>\n",
              "      <td>-0.463647</td>\n",
              "      <td>0.303862</td>\n",
              "      <td>-0.068063</td>\n",
              "      <td>0.129053</td>\n",
              "      <td>-0.652669</td>\n",
              "      <td>0.493682</td>\n",
              "      <td>-0.529125</td>\n",
              "      <td>0.362162</td>\n",
              "      <td>-0.291259</td>\n",
              "      <td>-0.286333</td>\n",
              "      <td>-0.532276</td>\n",
              "      <td>...</td>\n",
              "      <td>-0.936508</td>\n",
              "      <td>-0.096577</td>\n",
              "      <td>-0.280671</td>\n",
              "      <td>-0.597758</td>\n",
              "      <td>-0.629175</td>\n",
              "      <td>-0.213509</td>\n",
              "      <td>-0.438877</td>\n",
              "      <td>-0.016826</td>\n",
              "      <td>-0.992093</td>\n",
              "      <td>-0.629175</td>\n",
              "      <td>-0.733587</td>\n",
              "      <td>-0.685717</td>\n",
              "      <td>0.23659</td>\n",
              "      <td>-0.897436</td>\n",
              "      <td>-0.596781</td>\n",
              "      <td>0.770359</td>\n",
              "      <td>0.679293</td>\n",
              "      <td>-0.834701</td>\n",
              "      <td>-0.846283</td>\n",
              "      <td>-0.816847</td>\n",
              "      <td>-0.882011</td>\n",
              "      <td>-0.940413</td>\n",
              "      <td>-0.834701</td>\n",
              "      <td>-0.985891</td>\n",
              "      <td>-0.812876</td>\n",
              "      <td>0.025113</td>\n",
              "      <td>-0.84127</td>\n",
              "      <td>-0.136403</td>\n",
              "      <td>-0.468159</td>\n",
              "      <td>-0.822172</td>\n",
              "      <td>-0.313195</td>\n",
              "      <td>0.257224</td>\n",
              "      <td>-0.642037</td>\n",
              "      <td>0.066189</td>\n",
              "      <td>-0.765578</td>\n",
              "      <td>0.255273</td>\n",
              "      <td>0.058342</td>\n",
              "      <td>30</td>\n",
              "      <td>2</td>\n",
              "      <td>WALKING_UPSTAIRS</td>\n",
              "    </tr>\n",
              "  </tbody>\n",
              "</table>\n",
              "<p>1 rows × 564 columns</p>\n",
              "</div>"
            ],
            "text/plain": [
              "      tBodyAcc-mean()-X  tBodyAcc-mean()-Y  ...  Activity      ActivityName\n",
              "7124           0.362596          -0.036061  ...         2  WALKING_UPSTAIRS\n",
              "\n",
              "[1 rows x 564 columns]"
            ]
          },
          "metadata": {},
          "execution_count": 42
        }
      ]
    },
    {
      "cell_type": "code",
      "metadata": {
        "colab": {
          "base_uri": "https://localhost:8080/"
        },
        "id": "y0T4Y7Mh3tvk",
        "outputId": "e69b58bb-e703-43e5-d67f-72e319b3f39a"
      },
      "source": [
        "train.shape"
      ],
      "execution_count": 43,
      "outputs": [
        {
          "output_type": "execute_result",
          "data": {
            "text/plain": [
              "(7352, 564)"
            ]
          },
          "metadata": {},
          "execution_count": 43
        }
      ]
    },
    {
      "cell_type": "markdown",
      "metadata": {
        "id": "_TAbrE79BlN-"
      },
      "source": [
        "### Loading Test Data"
      ]
    },
    {
      "cell_type": "code",
      "metadata": {
        "id": "ZnwkOkryBpI9"
      },
      "source": [
        "# Loading Test Data\n",
        "X_test = pd.read_csv('/content/drive/MyDrive/AAIC/Case Studies/Human Activity Recognition/UCI_HAR_Dataset/test/X_test.txt', delim_whitespace=True, header=None)\n",
        "X_test.columns = features\n",
        "\n",
        "# Getting Subject Data\n",
        "X_test['subject'] = pd.read_csv(\"/content/drive/MyDrive/AAIC/Case Studies/Human Activity Recognition/UCI_HAR_Dataset/test/subject_test.txt\",header = None, squeeze = True)\n",
        "\n",
        "y_test = pd.read_csv(\"/content/drive/MyDrive/AAIC/Case Studies/Human Activity Recognition/UCI_HAR_Dataset/test/y_test.txt\", names = [\"Activity\"], squeeze = True)\n",
        "y_test_labels = y_test.map({1: 'WALKING', 2:'WALKING_UPSTAIRS',3:'WALKING_DOWNSTAIRS',4:'SITTING', 5:'STANDING',6:'LAYING'})"
      ],
      "execution_count": 44,
      "outputs": []
    },
    {
      "cell_type": "code",
      "metadata": {
        "colab": {
          "base_uri": "https://localhost:8080/",
          "height": 164
        },
        "id": "nRTS6cKyBxVm",
        "outputId": "941851f7-8a2d-4230-eef3-a15a4dd2e28f"
      },
      "source": [
        "test = X_test\n",
        "test[\"Activity\"] = y_test\n",
        "test[\"ActivityName\"] = y_test_labels\n",
        "test.sample()"
      ],
      "execution_count": 45,
      "outputs": [
        {
          "output_type": "execute_result",
          "data": {
            "text/html": [
              "<div>\n",
              "<style scoped>\n",
              "    .dataframe tbody tr th:only-of-type {\n",
              "        vertical-align: middle;\n",
              "    }\n",
              "\n",
              "    .dataframe tbody tr th {\n",
              "        vertical-align: top;\n",
              "    }\n",
              "\n",
              "    .dataframe thead th {\n",
              "        text-align: right;\n",
              "    }\n",
              "</style>\n",
              "<table border=\"1\" class=\"dataframe\">\n",
              "  <thead>\n",
              "    <tr style=\"text-align: right;\">\n",
              "      <th></th>\n",
              "      <th>tBodyAcc-mean()-X</th>\n",
              "      <th>tBodyAcc-mean()-Y</th>\n",
              "      <th>tBodyAcc-mean()-Z</th>\n",
              "      <th>tBodyAcc-std()-X</th>\n",
              "      <th>tBodyAcc-std()-Y</th>\n",
              "      <th>tBodyAcc-std()-Z</th>\n",
              "      <th>tBodyAcc-mad()-X</th>\n",
              "      <th>tBodyAcc-mad()-Y</th>\n",
              "      <th>tBodyAcc-mad()-Z</th>\n",
              "      <th>tBodyAcc-max()-X</th>\n",
              "      <th>tBodyAcc-max()-Y</th>\n",
              "      <th>tBodyAcc-max()-Z</th>\n",
              "      <th>tBodyAcc-min()-X</th>\n",
              "      <th>tBodyAcc-min()-Y</th>\n",
              "      <th>tBodyAcc-min()-Z</th>\n",
              "      <th>tBodyAcc-sma()</th>\n",
              "      <th>tBodyAcc-energy()-X</th>\n",
              "      <th>tBodyAcc-energy()-Y</th>\n",
              "      <th>tBodyAcc-energy()-Z</th>\n",
              "      <th>tBodyAcc-iqr()-X</th>\n",
              "      <th>tBodyAcc-iqr()-Y</th>\n",
              "      <th>tBodyAcc-iqr()-Z</th>\n",
              "      <th>tBodyAcc-entropy()-X</th>\n",
              "      <th>tBodyAcc-entropy()-Y</th>\n",
              "      <th>tBodyAcc-entropy()-Z</th>\n",
              "      <th>tBodyAcc-arCoeff()-X,1</th>\n",
              "      <th>tBodyAcc-arCoeff()-X,2</th>\n",
              "      <th>tBodyAcc-arCoeff()-X,3</th>\n",
              "      <th>tBodyAcc-arCoeff()-X,4</th>\n",
              "      <th>tBodyAcc-arCoeff()-Y,1</th>\n",
              "      <th>tBodyAcc-arCoeff()-Y,2</th>\n",
              "      <th>tBodyAcc-arCoeff()-Y,3</th>\n",
              "      <th>tBodyAcc-arCoeff()-Y,4</th>\n",
              "      <th>tBodyAcc-arCoeff()-Z,1</th>\n",
              "      <th>tBodyAcc-arCoeff()-Z,2</th>\n",
              "      <th>tBodyAcc-arCoeff()-Z,3</th>\n",
              "      <th>tBodyAcc-arCoeff()-Z,4</th>\n",
              "      <th>tBodyAcc-correlation()-X,Y</th>\n",
              "      <th>tBodyAcc-correlation()-X,Z</th>\n",
              "      <th>tBodyAcc-correlation()-Y,Z</th>\n",
              "      <th>...</th>\n",
              "      <th>fBodyBodyAccJerkMag-maxInds</th>\n",
              "      <th>fBodyBodyAccJerkMag-meanFreq()</th>\n",
              "      <th>fBodyBodyAccJerkMag-skewness()</th>\n",
              "      <th>fBodyBodyAccJerkMag-kurtosis()</th>\n",
              "      <th>fBodyBodyGyroMag-mean()</th>\n",
              "      <th>fBodyBodyGyroMag-std()</th>\n",
              "      <th>fBodyBodyGyroMag-mad()</th>\n",
              "      <th>fBodyBodyGyroMag-max()</th>\n",
              "      <th>fBodyBodyGyroMag-min()</th>\n",
              "      <th>fBodyBodyGyroMag-sma()</th>\n",
              "      <th>fBodyBodyGyroMag-energy()</th>\n",
              "      <th>fBodyBodyGyroMag-iqr()</th>\n",
              "      <th>fBodyBodyGyroMag-entropy()</th>\n",
              "      <th>fBodyBodyGyroMag-maxInds</th>\n",
              "      <th>fBodyBodyGyroMag-meanFreq()</th>\n",
              "      <th>fBodyBodyGyroMag-skewness()</th>\n",
              "      <th>fBodyBodyGyroMag-kurtosis()</th>\n",
              "      <th>fBodyBodyGyroJerkMag-mean()</th>\n",
              "      <th>fBodyBodyGyroJerkMag-std()</th>\n",
              "      <th>fBodyBodyGyroJerkMag-mad()</th>\n",
              "      <th>fBodyBodyGyroJerkMag-max()</th>\n",
              "      <th>fBodyBodyGyroJerkMag-min()</th>\n",
              "      <th>fBodyBodyGyroJerkMag-sma()</th>\n",
              "      <th>fBodyBodyGyroJerkMag-energy()</th>\n",
              "      <th>fBodyBodyGyroJerkMag-iqr()</th>\n",
              "      <th>fBodyBodyGyroJerkMag-entropy()</th>\n",
              "      <th>fBodyBodyGyroJerkMag-maxInds</th>\n",
              "      <th>fBodyBodyGyroJerkMag-meanFreq()</th>\n",
              "      <th>fBodyBodyGyroJerkMag-skewness()</th>\n",
              "      <th>fBodyBodyGyroJerkMag-kurtosis()</th>\n",
              "      <th>angle(tBodyAccMean,gravity)</th>\n",
              "      <th>angle(tBodyAccJerkMean),gravityMean)</th>\n",
              "      <th>angle(tBodyGyroMean,gravityMean)</th>\n",
              "      <th>angle(tBodyGyroJerkMean,gravityMean)</th>\n",
              "      <th>angle(X,gravityMean)</th>\n",
              "      <th>angle(Y,gravityMean)</th>\n",
              "      <th>angle(Z,gravityMean)</th>\n",
              "      <th>subject</th>\n",
              "      <th>Activity</th>\n",
              "      <th>ActivityName</th>\n",
              "    </tr>\n",
              "  </thead>\n",
              "  <tbody>\n",
              "    <tr>\n",
              "      <th>1000</th>\n",
              "      <td>0.307067</td>\n",
              "      <td>0.011398</td>\n",
              "      <td>-0.068094</td>\n",
              "      <td>-0.25397</td>\n",
              "      <td>0.058921</td>\n",
              "      <td>-0.426319</td>\n",
              "      <td>-0.295915</td>\n",
              "      <td>0.013321</td>\n",
              "      <td>-0.363956</td>\n",
              "      <td>-0.093665</td>\n",
              "      <td>0.053401</td>\n",
              "      <td>-0.298596</td>\n",
              "      <td>0.155253</td>\n",
              "      <td>0.023795</td>\n",
              "      <td>0.614263</td>\n",
              "      <td>-0.141198</td>\n",
              "      <td>-0.720265</td>\n",
              "      <td>-0.78186</td>\n",
              "      <td>-0.84656</td>\n",
              "      <td>-0.334081</td>\n",
              "      <td>-0.242935</td>\n",
              "      <td>-0.240378</td>\n",
              "      <td>0.543643</td>\n",
              "      <td>0.403695</td>\n",
              "      <td>0.19619</td>\n",
              "      <td>-0.177651</td>\n",
              "      <td>0.091038</td>\n",
              "      <td>0.140035</td>\n",
              "      <td>-0.017844</td>\n",
              "      <td>-0.100804</td>\n",
              "      <td>0.222392</td>\n",
              "      <td>-0.045698</td>\n",
              "      <td>0.07121</td>\n",
              "      <td>0.130192</td>\n",
              "      <td>-0.041973</td>\n",
              "      <td>0.280998</td>\n",
              "      <td>-0.510222</td>\n",
              "      <td>-0.104433</td>\n",
              "      <td>-0.104016</td>\n",
              "      <td>0.36677</td>\n",
              "      <td>...</td>\n",
              "      <td>-0.873016</td>\n",
              "      <td>0.027999</td>\n",
              "      <td>-0.347847</td>\n",
              "      <td>-0.74605</td>\n",
              "      <td>-0.445491</td>\n",
              "      <td>-0.46303</td>\n",
              "      <td>-0.381118</td>\n",
              "      <td>-0.595904</td>\n",
              "      <td>-0.900922</td>\n",
              "      <td>-0.445491</td>\n",
              "      <td>-0.815153</td>\n",
              "      <td>-0.474698</td>\n",
              "      <td>0.599141</td>\n",
              "      <td>-0.846154</td>\n",
              "      <td>0.004649</td>\n",
              "      <td>-0.520928</td>\n",
              "      <td>-0.836947</td>\n",
              "      <td>-0.571769</td>\n",
              "      <td>-0.597886</td>\n",
              "      <td>-0.5581</td>\n",
              "      <td>-0.688509</td>\n",
              "      <td>-0.820461</td>\n",
              "      <td>-0.571769</td>\n",
              "      <td>-0.906505</td>\n",
              "      <td>-0.598389</td>\n",
              "      <td>0.360783</td>\n",
              "      <td>-0.809524</td>\n",
              "      <td>0.084769</td>\n",
              "      <td>-0.315487</td>\n",
              "      <td>-0.736951</td>\n",
              "      <td>-0.113283</td>\n",
              "      <td>-0.602049</td>\n",
              "      <td>-0.590786</td>\n",
              "      <td>-0.381649</td>\n",
              "      <td>-0.821816</td>\n",
              "      <td>0.218546</td>\n",
              "      <td>-0.009133</td>\n",
              "      <td>10</td>\n",
              "      <td>1</td>\n",
              "      <td>WALKING</td>\n",
              "    </tr>\n",
              "  </tbody>\n",
              "</table>\n",
              "<p>1 rows × 564 columns</p>\n",
              "</div>"
            ],
            "text/plain": [
              "      tBodyAcc-mean()-X  tBodyAcc-mean()-Y  ...  Activity  ActivityName\n",
              "1000           0.307067           0.011398  ...         1       WALKING\n",
              "\n",
              "[1 rows x 564 columns]"
            ]
          },
          "metadata": {},
          "execution_count": 45
        }
      ]
    },
    {
      "cell_type": "code",
      "metadata": {
        "colab": {
          "base_uri": "https://localhost:8080/"
        },
        "id": "LMdM7FxaB5d2",
        "outputId": "a3b118eb-eff1-418f-9289-fefa66568179"
      },
      "source": [
        "test.shape"
      ],
      "execution_count": 46,
      "outputs": [
        {
          "output_type": "execute_result",
          "data": {
            "text/plain": [
              "(2947, 564)"
            ]
          },
          "metadata": {},
          "execution_count": 46
        }
      ]
    },
    {
      "cell_type": "markdown",
      "metadata": {
        "id": "dlc_xB8_B7mF"
      },
      "source": [
        "## Data Cleaning\n"
      ]
    },
    {
      "cell_type": "markdown",
      "metadata": {
        "id": "a9O9-ko9B-qV"
      },
      "source": [
        "### Checking for Duplicates"
      ]
    },
    {
      "cell_type": "code",
      "metadata": {
        "colab": {
          "base_uri": "https://localhost:8080/"
        },
        "id": "7yYYpdIaCS0t",
        "outputId": "606f5e22-de66-4986-8b48-40b7dd687df4"
      },
      "source": [
        "print(f\"Number of duplicates in Train: {sum(train.duplicated())}\")\n",
        "print(f\"Number of duplicates in Test: {sum(test.duplicated())}\")"
      ],
      "execution_count": 56,
      "outputs": [
        {
          "output_type": "stream",
          "name": "stdout",
          "text": [
            "Number of duplicates in Train: 0\n",
            "Number of duplicates in Test: 0\n"
          ]
        }
      ]
    },
    {
      "cell_type": "code",
      "metadata": {
        "colab": {
          "base_uri": "https://localhost:8080/"
        },
        "id": "zvxkKJkLDE3d",
        "outputId": "d400f44d-8bed-426d-8570-0631cab29add"
      },
      "source": [
        "print(f\"Number of NaN/Null values in Train: {train.isnull().values.sum()}\")\n",
        "print(f\"Number of NaN/Null values in Test: {test.isnull().values.sum()}\")"
      ],
      "execution_count": 57,
      "outputs": [
        {
          "output_type": "stream",
          "name": "stdout",
          "text": [
            "Number of NaN/Null values in Train: 0\n",
            "Number of NaN/Null values in Test: 0\n"
          ]
        }
      ]
    },
    {
      "cell_type": "markdown",
      "metadata": {
        "id": "KXXVU2wDDWn-"
      },
      "source": [
        "### Checking for Class Imbalance"
      ]
    },
    {
      "cell_type": "code",
      "metadata": {
        "colab": {
          "base_uri": "https://localhost:8080/",
          "height": 513
        },
        "id": "v8lPM52dDaok",
        "outputId": "92acd98e-728b-4857-b273-3dae54a82385"
      },
      "source": [
        "sns.set_style(\"whitegrid\")\n",
        "plt.figure(figsize=(16, 8))\n",
        "plt.title(\"Data provided by each user\")\n",
        "sns.countplot(x = \"subject\", hue = \"ActivityName\", data = train)\n",
        "plt.show()"
      ],
      "execution_count": 58,
      "outputs": [
        {
          "output_type": "display_data",
          "data": {
            "image/png": "[encoded data removed]",
            "text/plain": [
              "<Figure size 1152x576 with 1 Axes>"
            ]
          },
          "metadata": {}
        }
      ]
    },
    {
      "cell_type": "code",
      "metadata": {
        "colab": {
          "base_uri": "https://localhost:8080/",
          "height": 513
        },
        "id": "vgsAK1U6E6lN",
        "outputId": "7d9e91b1-518f-49a1-cc4a-387d0e1535e6"
      },
      "source": [
        "sns.set_style(\"whitegrid\")\n",
        "plt.figure(figsize=(16, 8))\n",
        "plt.title(\"Data provided by each user: Test\")\n",
        "sns.countplot(x = \"subject\", hue = \"ActivityName\", data = test)\n",
        "plt.show()"
      ],
      "execution_count": 59,
      "outputs": [
        {
          "output_type": "display_data",
          "data": {
            "image/png": "[encoded data removed]",
            "text/plain": [
              "<Figure size 1152x576 with 1 Axes>"
            ]
          },
          "metadata": {}
        }
      ]
    },
    {
      "cell_type": "markdown",
      "metadata": {
        "id": "wuplsiLNDuP1"
      },
      "source": [
        "Similar readings from all users"
      ]
    },
    {
      "cell_type": "code",
      "metadata": {
        "colab": {
          "base_uri": "https://localhost:8080/",
          "height": 458
        },
        "id": "oHYDJ1lIFADd",
        "outputId": "30b80298-68d9-418f-8671-9a1ce8f83e88"
      },
      "source": [
        "plt.title('No of Datapoints per Activity')\n",
        "sns.countplot(train.ActivityName)\n",
        "plt.xticks(rotation=90)\n",
        "plt.show()"
      ],
      "execution_count": 62,
      "outputs": [
        {
          "output_type": "stream",
          "name": "stderr",
          "text": [
            "/usr/local/lib/python3.7/dist-packages/seaborn/_decorators.py:43: FutureWarning: Pass the following variable as a keyword arg: x. From version 0.12, the only valid positional argument will be `data`, and passing other arguments without an explicit keyword will result in an error or misinterpretation.\n",
            "  FutureWarning\n"
          ]
        },
        {
          "output_type": "display_data",
          "data": {
            "image/png": "[encoded data removed]",
            "text/plain": [
              "<Figure size 432x288 with 1 Axes>"
            ]
          },
          "metadata": {}
        }
      ]
    },
    {
      "cell_type": "markdown",
      "metadata": {
        "id": "VvzjFfW8FH9O"
      },
      "source": [
        "Decently Balanced Data"
      ]
    },
    {
      "cell_type": "markdown",
      "metadata": {
        "id": "Dr-5LeiMFQnl"
      },
      "source": [
        "### Changning Feature Names"
      ]
    },
    {
      "cell_type": "code",
      "metadata": {
        "colab": {
          "base_uri": "https://localhost:8080/"
        },
        "id": "Q9ORjcXyFi09",
        "outputId": "736fdeb4-93bd-45aa-9c87-74b1b06b1033"
      },
      "source": [
        "columns = train.columns\n",
        "\n",
        "columns = columns.str.replace('[()]', '')\n",
        "columns = columns.str.replace('[-]', '')\n",
        "columns = columns.str.replace('[,]', '')\n",
        "\n",
        "train.columns = columns\n",
        "test.columns = columns\n",
        "\n",
        "test.columns"
      ],
      "execution_count": 63,
      "outputs": [
        {
          "output_type": "execute_result",
          "data": {
            "text/plain": [
              "Index(['tBodyAccmeanX', 'tBodyAccmeanY', 'tBodyAccmeanZ', 'tBodyAccstdX',\n",
              "       'tBodyAccstdY', 'tBodyAccstdZ', 'tBodyAccmadX', 'tBodyAccmadY',\n",
              "       'tBodyAccmadZ', 'tBodyAccmaxX',\n",
              "       ...\n",
              "       'angletBodyAccMeangravity', 'angletBodyAccJerkMeangravityMean',\n",
              "       'angletBodyGyroMeangravityMean', 'angletBodyGyroJerkMeangravityMean',\n",
              "       'angleXgravityMean', 'angleYgravityMean', 'angleZgravityMean',\n",
              "       'subject', 'Activity', 'ActivityName'],\n",
              "      dtype='object', length=564)"
            ]
          },
          "metadata": {},
          "execution_count": 63
        }
      ]
    },
    {
      "cell_type": "markdown",
      "metadata": {
        "id": "Yi_6lwCsF0yr"
      },
      "source": [
        "### Saving dataset to a file."
      ]
    },
    {
      "cell_type": "code",
      "metadata": {
        "id": "kPekfCzdF-9f"
      },
      "source": [
        "train.to_csv(\"/content/drive/MyDrive/AAIC/Case Studies/Human Activity Recognition/train.csv\", index = False)\n",
        "test.to_csv(\"/content/drive/MyDrive/AAIC/Case Studies/Human Activity Recognition/test.csv\", index = False)"
      ],
      "execution_count": 64,
      "outputs": []
    },
    {
      "cell_type": "markdown",
      "metadata": {
        "id": "LGry1WApGS89"
      },
      "source": [
        "## Exploratory Data Analysis"
      ]
    },
    {
      "cell_type": "markdown",
      "metadata": {
        "id": "5-ETrHFfGhng"
      },
      "source": [
        "Two types of activities\n",
        "\n",
        "1. Static. Where there is no movement in the user.\n",
        "2. Dynamic. Where there is significant movement in the user. "
      ]
    },
    {
      "cell_type": "code",
      "metadata": {
        "colab": {
          "base_uri": "https://localhost:8080/",
          "height": 441
        },
        "id": "Rg3Q-V5oG0Zt",
        "outputId": "d25e7c44-cccb-4a32-98d2-a4eaf03deaf3"
      },
      "source": [
        "facetgrid = sns.FacetGrid(train, size = 6, aspect = 2, hue = \"ActivityName\")\n",
        "facetgrid.map(sns.distplot, 'tBodyAccMagmean', hist = False).add_legend()\n",
        "plt.show()"
      ],
      "execution_count": 71,
      "outputs": [
        {
          "output_type": "display_data",
          "data": {
            "image/png": "[encoded data removed]",
            "text/plain": [
              "<Figure size 1018.62x432 with 1 Axes>"
            ]
          },
          "metadata": {}
        }
      ]
    },
    {
      "cell_type": "markdown",
      "metadata": {
        "id": "_10ZDzSEHKBJ"
      },
      "source": [
        "The spike seen on the left is stationary activities as a result of which tBodyAccMagmean ie., spread is low. The smaller spike is of dynammic activities whose spread is high."
      ]
    },
    {
      "cell_type": "code",
      "metadata": {
        "id": "U7SJ9AHUH3DS"
      },
      "source": [
        ""
      ],
      "execution_count": null,
      "outputs": []
    }
  ]
}